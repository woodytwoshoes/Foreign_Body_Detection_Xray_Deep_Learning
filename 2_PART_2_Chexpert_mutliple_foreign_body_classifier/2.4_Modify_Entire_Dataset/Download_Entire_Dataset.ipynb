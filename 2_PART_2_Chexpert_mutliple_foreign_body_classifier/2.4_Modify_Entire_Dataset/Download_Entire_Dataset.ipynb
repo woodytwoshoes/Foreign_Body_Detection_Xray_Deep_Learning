{
 "cells": [
  {
   "cell_type": "code",
   "execution_count": 9,
   "id": "9239c0f0-71b8-4c51-9c8b-3b67251ceecb",
   "metadata": {},
   "outputs": [],
   "source": [
    "from PIL import Image\n",
    "import numpy as np\n",
    "import cv2 as cv\n",
    "import pandas as pd\n",
    "import os\n",
    "from pathlib import Path\n",
    "import boto3"
   ]
  },
  {
   "cell_type": "code",
   "execution_count": 10,
   "id": "be4a6a5e-4e19-4090-9ff2-bdcea14ab20c",
   "metadata": {},
   "outputs": [
    {
     "name": "stdout",
     "output_type": "stream",
     "text": [
      "radio-star-csci-e-29\n"
     ]
    }
   ],
   "source": [
    "s3 = boto3.resource('s3')\n",
    "\n",
    "for bucket in s3.buckets.all():\n",
    "    print(bucket.name)\n",
    "\n",
    "bucket_Chexpert = s3.Bucket('radio-star-csci-e-29')"
   ]
  },
  {
   "cell_type": "code",
   "execution_count": 30,
   "id": "15d8c9e9-4955-4ae4-ad71-938a8b3f9593",
   "metadata": {},
   "outputs": [],
   "source": [
    "train_df_key = 'CheXpert-v1.0-small/train.csv'"
   ]
  },
  {
   "cell_type": "code",
   "execution_count": 46,
   "id": "b0956863-c3fa-4691-96b6-e69dfe762406",
   "metadata": {},
   "outputs": [
    {
     "name": "stdout",
     "output_type": "stream",
     "text": [
      "Progress: image 10000\n",
      "Progress: image 20000\n",
      "Progress: image 30000\n",
      "Progress: image 40000\n",
      "Progress: image 50000\n",
      "Progress: image 60000\n",
      "Progress: image 70000\n",
      "Progress: image 80000\n",
      "Progress: image 90000\n",
      "Progress: image 100000\n",
      "Progress: image 110000\n",
      "Progress: image 120000\n",
      "Progress: image 130000\n",
      "Progress: image 140000\n",
      "Progress: image 150000\n",
      "Progress: image 160000\n",
      "Progress: image 170000\n"
     ]
    }
   ],
   "source": [
    "# Download Entire Dataset\n",
    "\n",
    "\n",
    "i = 0\n",
    "for obj in bucket_Chexpert.objects.all():\n",
    "    i += 1\n",
    "    p = Path(obj.key)\n",
    "    if obj.key[-1] != '/':\n",
    "        newpath = Path('CheXpert-v1.0-small')/Path(*p.parts[1:])\n",
    "        newpath.parents[0].mkdir(parents = True, exist_ok = True)\n",
    "        obj.Object().download_file(str(newpath))\n",
    "    if i%10000 == 0:\n",
    "        print(f'Progress: image {i}')"
   ]
  },
  {
   "cell_type": "code",
   "execution_count": 47,
   "id": "ed486de2-29e9-4ef2-8334-ebddb4515a02",
   "metadata": {},
   "outputs": [
    {
     "data": {
      "text/plain": [
       "178760"
      ]
     },
     "execution_count": 47,
     "metadata": {},
     "output_type": "execute_result"
    }
   ],
   "source": [
    "i"
   ]
  },
  {
   "cell_type": "code",
   "execution_count": null,
   "id": "fb8c5ff9-af43-4828-ba9c-b9ed237d860a",
   "metadata": {},
   "outputs": [],
   "source": []
  }
 ],
 "metadata": {
  "kernelspec": {
   "display_name": "Python [conda env:fastchexpert]",
   "language": "python",
   "name": "conda-env-fastchexpert-py"
  },
  "language_info": {
   "codemirror_mode": {
    "name": "ipython",
    "version": 3
   },
   "file_extension": ".py",
   "mimetype": "text/x-python",
   "name": "python",
   "nbconvert_exporter": "python",
   "pygments_lexer": "ipython3",
   "version": "3.9.12"
  }
 },
 "nbformat": 4,
 "nbformat_minor": 5
}
