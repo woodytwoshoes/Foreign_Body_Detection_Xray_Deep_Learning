{
 "cells": [
  {
   "cell_type": "code",
   "execution_count": 1,
   "id": "bedba581-d659-4194-9de4-6d05a62ac335",
   "metadata": {},
   "outputs": [],
   "source": [
    "from fastai.vision.all import *\n",
    "\n",
    "from PIL import Image\n",
    "import numpy as np\n",
    "import pandas as pd\n",
    "import os\n",
    "from pathlib import Path\n",
    "\n",
    "np.random.seed(0)"
   ]
  },
  {
   "cell_type": "code",
   "execution_count": 2,
   "id": "cb87c8a9-a746-4ae6-bfdf-802e028bcf76",
   "metadata": {},
   "outputs": [],
   "source": [
    "path = Path('../2.4_Modify_Entire_Dataset/CheXpert-v1.0-small-MOD/')"
   ]
  },
  {
   "cell_type": "code",
   "execution_count": 3,
   "id": "086e1bec-6444-45b1-b8f6-d6a2fdf5bc2d",
   "metadata": {},
   "outputs": [],
   "source": [
    "df_mod = pd.read_csv('df_mod_pathadjusted.csv', index_col = 0)"
   ]
  },
  {
   "cell_type": "code",
   "execution_count": 4,
   "id": "8b66209b-794f-4442-8845-e523fc55ba6a",
   "metadata": {},
   "outputs": [
    {
     "data": {
      "text/html": [
       "<div>\n",
       "<style scoped>\n",
       "    .dataframe tbody tr th:only-of-type {\n",
       "        vertical-align: middle;\n",
       "    }\n",
       "\n",
       "    .dataframe tbody tr th {\n",
       "        vertical-align: top;\n",
       "    }\n",
       "\n",
       "    .dataframe thead th {\n",
       "        text-align: right;\n",
       "    }\n",
       "</style>\n",
       "<table border=\"1\" class=\"dataframe\">\n",
       "  <thead>\n",
       "    <tr style=\"text-align: right;\">\n",
       "      <th></th>\n",
       "      <th>Path</th>\n",
       "      <th>Sex</th>\n",
       "      <th>Age</th>\n",
       "      <th>Frontal/Lateral</th>\n",
       "      <th>AP/PA</th>\n",
       "      <th>No Finding</th>\n",
       "      <th>Enlarged Cardiomediastinum</th>\n",
       "      <th>Cardiomegaly</th>\n",
       "      <th>Lung Opacity</th>\n",
       "      <th>Lung Lesion</th>\n",
       "      <th>...</th>\n",
       "      <th>Atelectasis</th>\n",
       "      <th>Pneumothorax</th>\n",
       "      <th>Pleural Effusion</th>\n",
       "      <th>Pleural Other</th>\n",
       "      <th>Fracture</th>\n",
       "      <th>Support Devices</th>\n",
       "      <th>magnets</th>\n",
       "      <th>no_mod</th>\n",
       "      <th>bullet</th>\n",
       "      <th>coin</th>\n",
       "    </tr>\n",
       "  </thead>\n",
       "  <tbody>\n",
       "    <tr>\n",
       "      <th>0</th>\n",
       "      <td>train/patient00001/study1/view1_frontal_mod_magnets.jpg</td>\n",
       "      <td>Female</td>\n",
       "      <td>68</td>\n",
       "      <td>Frontal</td>\n",
       "      <td>AP</td>\n",
       "      <td>1.0</td>\n",
       "      <td>NaN</td>\n",
       "      <td>NaN</td>\n",
       "      <td>NaN</td>\n",
       "      <td>NaN</td>\n",
       "      <td>...</td>\n",
       "      <td>NaN</td>\n",
       "      <td>0.0</td>\n",
       "      <td>NaN</td>\n",
       "      <td>NaN</td>\n",
       "      <td>NaN</td>\n",
       "      <td>1.0</td>\n",
       "      <td>True</td>\n",
       "      <td>NaN</td>\n",
       "      <td>NaN</td>\n",
       "      <td>NaN</td>\n",
       "    </tr>\n",
       "    <tr>\n",
       "      <th>1</th>\n",
       "      <td>train/patient00002/study2/view1_frontal_mod_no_mod.jpg</td>\n",
       "      <td>Female</td>\n",
       "      <td>87</td>\n",
       "      <td>Frontal</td>\n",
       "      <td>AP</td>\n",
       "      <td>NaN</td>\n",
       "      <td>NaN</td>\n",
       "      <td>-1.0</td>\n",
       "      <td>1.0</td>\n",
       "      <td>NaN</td>\n",
       "      <td>...</td>\n",
       "      <td>-1.0</td>\n",
       "      <td>NaN</td>\n",
       "      <td>-1.0</td>\n",
       "      <td>NaN</td>\n",
       "      <td>1.0</td>\n",
       "      <td>NaN</td>\n",
       "      <td>NaN</td>\n",
       "      <td>True</td>\n",
       "      <td>NaN</td>\n",
       "      <td>NaN</td>\n",
       "    </tr>\n",
       "    <tr>\n",
       "      <th>2</th>\n",
       "      <td>train/patient00002/study1/view1_frontal_mod_no_mod.jpg</td>\n",
       "      <td>Female</td>\n",
       "      <td>83</td>\n",
       "      <td>Frontal</td>\n",
       "      <td>AP</td>\n",
       "      <td>NaN</td>\n",
       "      <td>NaN</td>\n",
       "      <td>NaN</td>\n",
       "      <td>1.0</td>\n",
       "      <td>NaN</td>\n",
       "      <td>...</td>\n",
       "      <td>NaN</td>\n",
       "      <td>NaN</td>\n",
       "      <td>NaN</td>\n",
       "      <td>NaN</td>\n",
       "      <td>1.0</td>\n",
       "      <td>NaN</td>\n",
       "      <td>NaN</td>\n",
       "      <td>True</td>\n",
       "      <td>NaN</td>\n",
       "      <td>NaN</td>\n",
       "    </tr>\n",
       "    <tr>\n",
       "      <th>3</th>\n",
       "      <td>train/patient00002/study1/view2_lateral_mod_no_mod.jpg</td>\n",
       "      <td>Female</td>\n",
       "      <td>83</td>\n",
       "      <td>Lateral</td>\n",
       "      <td>NaN</td>\n",
       "      <td>NaN</td>\n",
       "      <td>NaN</td>\n",
       "      <td>NaN</td>\n",
       "      <td>1.0</td>\n",
       "      <td>NaN</td>\n",
       "      <td>...</td>\n",
       "      <td>NaN</td>\n",
       "      <td>NaN</td>\n",
       "      <td>NaN</td>\n",
       "      <td>NaN</td>\n",
       "      <td>1.0</td>\n",
       "      <td>NaN</td>\n",
       "      <td>NaN</td>\n",
       "      <td>True</td>\n",
       "      <td>NaN</td>\n",
       "      <td>NaN</td>\n",
       "    </tr>\n",
       "    <tr>\n",
       "      <th>4</th>\n",
       "      <td>train/patient00003/study1/view1_frontal_mod_bullet.jpg</td>\n",
       "      <td>Male</td>\n",
       "      <td>41</td>\n",
       "      <td>Frontal</td>\n",
       "      <td>AP</td>\n",
       "      <td>NaN</td>\n",
       "      <td>NaN</td>\n",
       "      <td>NaN</td>\n",
       "      <td>NaN</td>\n",
       "      <td>NaN</td>\n",
       "      <td>...</td>\n",
       "      <td>NaN</td>\n",
       "      <td>0.0</td>\n",
       "      <td>NaN</td>\n",
       "      <td>NaN</td>\n",
       "      <td>NaN</td>\n",
       "      <td>NaN</td>\n",
       "      <td>NaN</td>\n",
       "      <td>NaN</td>\n",
       "      <td>True</td>\n",
       "      <td>NaN</td>\n",
       "    </tr>\n",
       "  </tbody>\n",
       "</table>\n",
       "<p>5 rows × 23 columns</p>\n",
       "</div>"
      ],
      "text/plain": [
       "                                                      Path     Sex  Age  \\\n",
       "0  train/patient00001/study1/view1_frontal_mod_magnets.jpg  Female   68   \n",
       "1   train/patient00002/study2/view1_frontal_mod_no_mod.jpg  Female   87   \n",
       "2   train/patient00002/study1/view1_frontal_mod_no_mod.jpg  Female   83   \n",
       "3   train/patient00002/study1/view2_lateral_mod_no_mod.jpg  Female   83   \n",
       "4   train/patient00003/study1/view1_frontal_mod_bullet.jpg    Male   41   \n",
       "\n",
       "  Frontal/Lateral AP/PA  No Finding  Enlarged Cardiomediastinum  Cardiomegaly  \\\n",
       "0         Frontal    AP         1.0                         NaN           NaN   \n",
       "1         Frontal    AP         NaN                         NaN          -1.0   \n",
       "2         Frontal    AP         NaN                         NaN           NaN   \n",
       "3         Lateral   NaN         NaN                         NaN           NaN   \n",
       "4         Frontal    AP         NaN                         NaN           NaN   \n",
       "\n",
       "   Lung Opacity  Lung Lesion  ...  Atelectasis  Pneumothorax  \\\n",
       "0           NaN          NaN  ...          NaN           0.0   \n",
       "1           1.0          NaN  ...         -1.0           NaN   \n",
       "2           1.0          NaN  ...          NaN           NaN   \n",
       "3           1.0          NaN  ...          NaN           NaN   \n",
       "4           NaN          NaN  ...          NaN           0.0   \n",
       "\n",
       "   Pleural Effusion  Pleural Other  Fracture  Support Devices  magnets  \\\n",
       "0               NaN            NaN       NaN              1.0     True   \n",
       "1              -1.0            NaN       1.0              NaN      NaN   \n",
       "2               NaN            NaN       1.0              NaN      NaN   \n",
       "3               NaN            NaN       1.0              NaN      NaN   \n",
       "4               NaN            NaN       NaN              NaN      NaN   \n",
       "\n",
       "   no_mod  bullet coin  \n",
       "0     NaN     NaN  NaN  \n",
       "1    True     NaN  NaN  \n",
       "2    True     NaN  NaN  \n",
       "3    True     NaN  NaN  \n",
       "4     NaN    True  NaN  \n",
       "\n",
       "[5 rows x 23 columns]"
      ]
     },
     "execution_count": 4,
     "metadata": {},
     "output_type": "execute_result"
    }
   ],
   "source": [
    "df_mod.head()"
   ]
  },
  {
   "cell_type": "code",
   "execution_count": 5,
   "id": "66eb3edc-a23f-46ce-a536-ebc81488104e",
   "metadata": {},
   "outputs": [],
   "source": [
    "label_cols = 'coin magnets bullet no_mod'.split(' ')"
   ]
  },
  {
   "cell_type": "code",
   "execution_count": 6,
   "id": "1fb14fed-9183-4e4c-a2d3-b77d32f85918",
   "metadata": {},
   "outputs": [
    {
     "data": {
      "text/plain": [
       "['coin', 'magnets', 'bullet', 'no_mod']"
      ]
     },
     "execution_count": 6,
     "metadata": {},
     "output_type": "execute_result"
    }
   ],
   "source": [
    "label_cols"
   ]
  },
  {
   "cell_type": "code",
   "execution_count": 7,
   "id": "f10d01b0-ad99-40bb-823c-2dfc70d6c63a",
   "metadata": {},
   "outputs": [],
   "source": [
    "df_mod['label'] = df_mod[label_cols].fillna(0).astype('int').idxmax(axis = 1)"
   ]
  },
  {
   "cell_type": "code",
   "execution_count": 8,
   "id": "aa51d0dc-cbd6-4553-a5bd-679078946898",
   "metadata": {},
   "outputs": [],
   "source": [
    "df = df_mod[['Path','label']]"
   ]
  },
  {
   "cell_type": "code",
   "execution_count": 9,
   "id": "ce2d2314-5017-4504-a63b-3f8e61d6bcda",
   "metadata": {},
   "outputs": [
    {
     "data": {
      "text/html": [
       "<div>\n",
       "<style scoped>\n",
       "    .dataframe tbody tr th:only-of-type {\n",
       "        vertical-align: middle;\n",
       "    }\n",
       "\n",
       "    .dataframe tbody tr th {\n",
       "        vertical-align: top;\n",
       "    }\n",
       "\n",
       "    .dataframe thead th {\n",
       "        text-align: right;\n",
       "    }\n",
       "</style>\n",
       "<table border=\"1\" class=\"dataframe\">\n",
       "  <thead>\n",
       "    <tr style=\"text-align: right;\">\n",
       "      <th></th>\n",
       "      <th>Path</th>\n",
       "      <th>label</th>\n",
       "    </tr>\n",
       "  </thead>\n",
       "  <tbody>\n",
       "    <tr>\n",
       "      <th>0</th>\n",
       "      <td>train/patient00001/study1/view1_frontal_mod_magnets.jpg</td>\n",
       "      <td>magnets</td>\n",
       "    </tr>\n",
       "    <tr>\n",
       "      <th>1</th>\n",
       "      <td>train/patient00002/study2/view1_frontal_mod_no_mod.jpg</td>\n",
       "      <td>no_mod</td>\n",
       "    </tr>\n",
       "    <tr>\n",
       "      <th>2</th>\n",
       "      <td>train/patient00002/study1/view1_frontal_mod_no_mod.jpg</td>\n",
       "      <td>no_mod</td>\n",
       "    </tr>\n",
       "    <tr>\n",
       "      <th>3</th>\n",
       "      <td>train/patient00002/study1/view2_lateral_mod_no_mod.jpg</td>\n",
       "      <td>no_mod</td>\n",
       "    </tr>\n",
       "    <tr>\n",
       "      <th>4</th>\n",
       "      <td>train/patient00003/study1/view1_frontal_mod_bullet.jpg</td>\n",
       "      <td>bullet</td>\n",
       "    </tr>\n",
       "    <tr>\n",
       "      <th>...</th>\n",
       "      <td>...</td>\n",
       "      <td>...</td>\n",
       "    </tr>\n",
       "    <tr>\n",
       "      <th>177995</th>\n",
       "      <td>train/patient41732/study3/view1_frontal_mod_bullet.jpg</td>\n",
       "      <td>bullet</td>\n",
       "    </tr>\n",
       "    <tr>\n",
       "      <th>177996</th>\n",
       "      <td>train/patient41733/study3/view1_frontal_mod_bullet.jpg</td>\n",
       "      <td>bullet</td>\n",
       "    </tr>\n",
       "    <tr>\n",
       "      <th>177997</th>\n",
       "      <td>train/patient41733/study1/view1_frontal_mod_no_mod.jpg</td>\n",
       "      <td>no_mod</td>\n",
       "    </tr>\n",
       "    <tr>\n",
       "      <th>177998</th>\n",
       "      <td>train/patient41733/study2/view1_frontal_mod_bullet.jpg</td>\n",
       "      <td>bullet</td>\n",
       "    </tr>\n",
       "    <tr>\n",
       "      <th>177999</th>\n",
       "      <td>train/patient41734/study2/view1_frontal_mod_coin.jpg</td>\n",
       "      <td>coin</td>\n",
       "    </tr>\n",
       "  </tbody>\n",
       "</table>\n",
       "<p>178000 rows × 2 columns</p>\n",
       "</div>"
      ],
      "text/plain": [
       "                                                           Path    label\n",
       "0       train/patient00001/study1/view1_frontal_mod_magnets.jpg  magnets\n",
       "1        train/patient00002/study2/view1_frontal_mod_no_mod.jpg   no_mod\n",
       "2        train/patient00002/study1/view1_frontal_mod_no_mod.jpg   no_mod\n",
       "3        train/patient00002/study1/view2_lateral_mod_no_mod.jpg   no_mod\n",
       "4        train/patient00003/study1/view1_frontal_mod_bullet.jpg   bullet\n",
       "...                                                         ...      ...\n",
       "177995   train/patient41732/study3/view1_frontal_mod_bullet.jpg   bullet\n",
       "177996   train/patient41733/study3/view1_frontal_mod_bullet.jpg   bullet\n",
       "177997   train/patient41733/study1/view1_frontal_mod_no_mod.jpg   no_mod\n",
       "177998   train/patient41733/study2/view1_frontal_mod_bullet.jpg   bullet\n",
       "177999     train/patient41734/study2/view1_frontal_mod_coin.jpg     coin\n",
       "\n",
       "[178000 rows x 2 columns]"
      ]
     },
     "execution_count": 9,
     "metadata": {},
     "output_type": "execute_result"
    }
   ],
   "source": [
    "df.iloc[:178000]"
   ]
  },
  {
   "cell_type": "code",
   "execution_count": 10,
   "id": "0db3e558-a30f-47f4-aad9-835a8487e016",
   "metadata": {},
   "outputs": [],
   "source": [
    "dls = ImageDataLoaders.from_df(df = df.iloc[:178000], path = path, item_tfms=Resize(224))"
   ]
  },
  {
   "cell_type": "code",
   "execution_count": 11,
   "id": "faa875d3-b18e-4b5a-846a-991fdb7c791d",
   "metadata": {},
   "outputs": [],
   "source": [
    "learn = cnn_learner(dls, resnet18, metrics=accuracy, lr = 0.00524807)"
   ]
  },
  {
   "cell_type": "code",
   "execution_count": 12,
   "id": "e83f8924-3773-4159-b051-f13128692280",
   "metadata": {},
   "outputs": [
    {
     "data": {
      "text/plain": [
       "<fastai.learner.Learner at 0x7f4cab8b6340>"
      ]
     },
     "execution_count": 12,
     "metadata": {},
     "output_type": "execute_result"
    }
   ],
   "source": [
    "learn.load('20220426_model_binary_mod_nomod')"
   ]
  },
  {
   "cell_type": "code",
   "execution_count": null,
   "id": "b058046a-6e4d-46e4-9717-1bc9881a68f1",
   "metadata": {},
   "outputs": [
    {
     "data": {
      "text/html": [
       "\n",
       "<style>\n",
       "    /* Turns off some styling */\n",
       "    progress {\n",
       "        /* gets rid of default border in Firefox and Opera. */\n",
       "        border: none;\n",
       "        /* Needs to be in here for Safari polyfill so background images work as expected. */\n",
       "        background-size: auto;\n",
       "    }\n",
       "    .progress-bar-interrupted, .progress-bar-interrupted::-webkit-progress-bar {\n",
       "        background: #F44336;\n",
       "    }\n",
       "</style>\n"
      ],
      "text/plain": [
       "<IPython.core.display.HTML object>"
      ]
     },
     "metadata": {},
     "output_type": "display_data"
    },
    {
     "data": {
      "text/html": [
       "\n",
       "    <div>\n",
       "      <progress value='379' class='' max='557' style='width:300px; height:20px; vertical-align: middle;'></progress>\n",
       "      68.04% [379/557 32:35<15:18]\n",
       "    </div>\n",
       "    "
      ],
      "text/plain": [
       "<IPython.core.display.HTML object>"
      ]
     },
     "metadata": {},
     "output_type": "display_data"
    }
   ],
   "source": [
    "interp = Interpretation.from_learner(learn)"
   ]
  },
  {
   "cell_type": "code",
   "execution_count": 18,
   "id": "fbfeb354-562d-4887-984a-66a461879d7d",
   "metadata": {},
   "outputs": [
    {
     "data": {
      "text/html": [
       "\n",
       "<style>\n",
       "    /* Turns off some styling */\n",
       "    progress {\n",
       "        /* gets rid of default border in Firefox and Opera. */\n",
       "        border: none;\n",
       "        /* Needs to be in here for Safari polyfill so background images work as expected. */\n",
       "        background-size: auto;\n",
       "    }\n",
       "    .progress-bar-interrupted, .progress-bar-interrupted::-webkit-progress-bar {\n",
       "        background: #F44336;\n",
       "    }\n",
       "</style>\n"
      ],
      "text/plain": [
       "<IPython.core.display.HTML object>"
      ]
     },
     "metadata": {},
     "output_type": "display_data"
    },
    {
     "data": {
      "text/html": [],
      "text/plain": [
       "<IPython.core.display.HTML object>"
      ]
     },
     "metadata": {},
     "output_type": "display_data"
    },
    {
     "data": {
      "text/html": [
       "\n",
       "<style>\n",
       "    /* Turns off some styling */\n",
       "    progress {\n",
       "        /* gets rid of default border in Firefox and Opera. */\n",
       "        border: none;\n",
       "        /* Needs to be in here for Safari polyfill so background images work as expected. */\n",
       "        background-size: auto;\n",
       "    }\n",
       "    .progress-bar-interrupted, .progress-bar-interrupted::-webkit-progress-bar {\n",
       "        background: #F44336;\n",
       "    }\n",
       "</style>\n"
      ],
      "text/plain": [
       "<IPython.core.display.HTML object>"
      ]
     },
     "metadata": {},
     "output_type": "display_data"
    },
    {
     "data": {
      "text/html": [],
      "text/plain": [
       "<IPython.core.display.HTML object>"
      ]
     },
     "metadata": {},
     "output_type": "display_data"
    },
    {
     "data": {
      "image/png": "[encoded data removed]",
      "text/plain": [
       "<Figure size 504x504 with 1 Axes>"
      ]
     },
     "metadata": {
      "needs_background": "light"
     },
     "output_type": "display_data"
    }
   ],
   "source": [
    "interp = ClassificationInterpretation.from_learner(learn)\n",
    "losses,idxs = interp.top_losses()\n",
    "len(dls.valid_ds)==len(losses)==len(idxs)\n",
    "interp.plot_confusion_matrix(figsize=(7,7))"
   ]
  },
  {
   "cell_type": "code",
   "execution_count": 2,
   "id": "f90a1d31-3578-4138-a1bc-63934388e230",
   "metadata": {},
   "outputs": [
    {
     "ename": "NameError",
     "evalue": "name 'interp' is not defined",
     "output_type": "error",
     "traceback": [
      "\u001b[0;31m---------------------------------------------------------------------------\u001b[0m",
      "\u001b[0;31mNameError\u001b[0m                                 Traceback (most recent call last)",
      "Input \u001b[0;32mIn [2]\u001b[0m, in \u001b[0;36m<cell line: 1>\u001b[0;34m()\u001b[0m\n\u001b[0;32m----> 1\u001b[0m \u001b[43minterp\u001b[49m\n",
      "\u001b[0;31mNameError\u001b[0m: name 'interp' is not defined"
     ]
    }
   ],
   "source": [
    "interp"
   ]
  },
  {
   "cell_type": "code",
   "execution_count": 20,
   "id": "1ed14a5a-adb0-4529-b0fc-898aea594679",
   "metadata": {},
   "outputs": [
    {
     "data": {
      "text/html": [
       "\n",
       "<style>\n",
       "    /* Turns off some styling */\n",
       "    progress {\n",
       "        /* gets rid of default border in Firefox and Opera. */\n",
       "        border: none;\n",
       "        /* Needs to be in here for Safari polyfill so background images work as expected. */\n",
       "        background-size: auto;\n",
       "    }\n",
       "    .progress-bar-interrupted, .progress-bar-interrupted::-webkit-progress-bar {\n",
       "        background: #F44336;\n",
       "    }\n",
       "</style>\n"
      ],
      "text/plain": [
       "<IPython.core.display.HTML object>"
      ]
     },
     "metadata": {},
     "output_type": "display_data"
    },
    {
     "data": {
      "text/html": [],
      "text/plain": [
       "<IPython.core.display.HTML object>"
      ]
     },
     "metadata": {},
     "output_type": "display_data"
    },
    {
     "ename": "ValueError",
     "evalue": "too many values to unpack (expected 2)",
     "output_type": "error",
     "traceback": [
      "\u001b[0;31m---------------------------------------------------------------------------\u001b[0m",
      "\u001b[0;31mValueError\u001b[0m                                Traceback (most recent call last)",
      "Input \u001b[0;32mIn [20]\u001b[0m, in \u001b[0;36m<cell line: 1>\u001b[0;34m()\u001b[0m\n\u001b[0;32m----> 1\u001b[0m upp, low \u001b[38;5;241m=\u001b[39m interp\u001b[38;5;241m.\u001b[39mconfusion_matrix()\n\u001b[1;32m      2\u001b[0m tn, fp \u001b[38;5;241m=\u001b[39m upp[\u001b[38;5;241m0\u001b[39m], upp[\u001b[38;5;241m1\u001b[39m]\n\u001b[1;32m      3\u001b[0m fn, tp \u001b[38;5;241m=\u001b[39m low[\u001b[38;5;241m0\u001b[39m], low[\u001b[38;5;241m1\u001b[39m]\n",
      "\u001b[0;31mValueError\u001b[0m: too many values to unpack (expected 2)"
     ]
    }
   ],
   "source": [
    "upp, low = interp.confusion_matrix()\n",
    "tn, fp = upp[0], upp[1]\n",
    "fn, tp = low[0], low[1]\n",
    "print(tn, fp, fn, tp)"
   ]
  },
  {
   "cell_type": "code",
   "execution_count": 21,
   "id": "5f4b4fa0-acaf-4f7a-9b37-0fb0cde2b6a2",
   "metadata": {},
   "outputs": [
    {
     "ename": "NameError",
     "evalue": "name 'tp' is not defined",
     "output_type": "error",
     "traceback": [
      "\u001b[0;31m---------------------------------------------------------------------------\u001b[0m",
      "\u001b[0;31mNameError\u001b[0m                                 Traceback (most recent call last)",
      "Input \u001b[0;32mIn [21]\u001b[0m, in \u001b[0;36m<cell line: 1>\u001b[0;34m()\u001b[0m\n\u001b[0;32m----> 1\u001b[0m sensitivity \u001b[38;5;241m=\u001b[39m \u001b[43mtp\u001b[49m\u001b[38;5;241m/\u001b[39m(tp \u001b[38;5;241m+\u001b[39m fn)\n\u001b[1;32m      2\u001b[0m sensitivity\n",
      "\u001b[0;31mNameError\u001b[0m: name 'tp' is not defined"
     ]
    }
   ],
   "source": [
    "sensitivity = tp/(tp + fn)\n",
    "sensitivity"
   ]
  },
  {
   "cell_type": "markdown",
   "id": "de75dbc1-b585-4fbd-9257-8dc4ed5a8087",
   "metadata": {},
   "source": [
    "**Specificity = True Negative/(False Positive + True Negative)**"
   ]
  },
  {
   "cell_type": "code",
   "execution_count": 22,
   "id": "2a55bb07-ac8c-4c8e-8696-de4a0db25436",
   "metadata": {},
   "outputs": [
    {
     "ename": "NameError",
     "evalue": "name 'tn' is not defined",
     "output_type": "error",
     "traceback": [
      "\u001b[0;31m---------------------------------------------------------------------------\u001b[0m",
      "\u001b[0;31mNameError\u001b[0m                                 Traceback (most recent call last)",
      "Input \u001b[0;32mIn [22]\u001b[0m, in \u001b[0;36m<cell line: 1>\u001b[0;34m()\u001b[0m\n\u001b[0;32m----> 1\u001b[0m specificity \u001b[38;5;241m=\u001b[39m \u001b[43mtn\u001b[49m\u001b[38;5;241m/\u001b[39m(fp \u001b[38;5;241m+\u001b[39m tn)\n\u001b[1;32m      2\u001b[0m specificity\n",
      "\u001b[0;31mNameError\u001b[0m: name 'tn' is not defined"
     ]
    }
   ],
   "source": [
    "specificity = tn/(fp + tn)\n",
    "specificity"
   ]
  },
  {
   "cell_type": "markdown",
   "id": "1012e213-82a5-4679-aca8-a0b703c35fb6",
   "metadata": {},
   "source": [
    "The model has a specificity of 94% and hence can correctly detect 94% of the time that a patient does **not** have a coin in the trachea but will incorrectly classify that 6% of the patients have coin in the trachea (False Postive) but actually do not.\n",
    "\n",
    "This is also known as a **Type I error**"
   ]
  },
  {
   "cell_type": "markdown",
   "id": "4733815f-af91-4fdf-b30a-62b95c3f6ed3",
   "metadata": {},
   "source": [
    "**Positive Predictive Value (PPV)**"
   ]
  },
  {
   "cell_type": "code",
   "execution_count": 23,
   "id": "4aafba5d-2dc6-4da0-aeee-29b62784ca70",
   "metadata": {},
   "outputs": [
    {
     "ename": "NameError",
     "evalue": "name 'tp' is not defined",
     "output_type": "error",
     "traceback": [
      "\u001b[0;31m---------------------------------------------------------------------------\u001b[0m",
      "\u001b[0;31mNameError\u001b[0m                                 Traceback (most recent call last)",
      "Input \u001b[0;32mIn [23]\u001b[0m, in \u001b[0;36m<cell line: 1>\u001b[0;34m()\u001b[0m\n\u001b[0;32m----> 1\u001b[0m ppv \u001b[38;5;241m=\u001b[39m \u001b[43mtp\u001b[49m\u001b[38;5;241m/\u001b[39m(tp\u001b[38;5;241m+\u001b[39mfp)\n\u001b[1;32m      2\u001b[0m ppv\n",
      "\u001b[0;31mNameError\u001b[0m: name 'tp' is not defined"
     ]
    }
   ],
   "source": [
    "ppv = tp/(tp+fp)\n",
    "ppv"
   ]
  },
  {
   "cell_type": "markdown",
   "id": "bc3cb755-3867-4542-b7f1-cec515870618",
   "metadata": {},
   "source": [
    "In this case the model performs well in correctly predicting patients with coin in the trachea."
   ]
  },
  {
   "cell_type": "markdown",
   "id": "fb313724-9ab0-47a9-a58d-33d912eb00db",
   "metadata": {},
   "source": [
    "**Negative Predictive Value (NPV)**"
   ]
  },
  {
   "cell_type": "code",
   "execution_count": 24,
   "id": "72878db6-cad9-49a8-a6c9-b12f83f74bf2",
   "metadata": {},
   "outputs": [
    {
     "ename": "NameError",
     "evalue": "name 'tn' is not defined",
     "output_type": "error",
     "traceback": [
      "\u001b[0;31m---------------------------------------------------------------------------\u001b[0m",
      "\u001b[0;31mNameError\u001b[0m                                 Traceback (most recent call last)",
      "Input \u001b[0;32mIn [24]\u001b[0m, in \u001b[0;36m<cell line: 1>\u001b[0;34m()\u001b[0m\n\u001b[0;32m----> 1\u001b[0m npv \u001b[38;5;241m=\u001b[39m \u001b[43mtn\u001b[49m\u001b[38;5;241m/\u001b[39m(tn\u001b[38;5;241m+\u001b[39mfn)\n\u001b[1;32m      2\u001b[0m npv\n",
      "\u001b[0;31mNameError\u001b[0m: name 'tn' is not defined"
     ]
    }
   ],
   "source": [
    "npv = tn/(tn+fn)\n",
    "npv"
   ]
  },
  {
   "cell_type": "code",
   "execution_count": null,
   "id": "d6374eb5-2272-497d-a734-bf2d6e26e1ad",
   "metadata": {},
   "outputs": [],
   "source": []
  },
  {
   "cell_type": "code",
   "execution_count": null,
   "id": "a364ab03-0c19-40ee-9c58-52fc96294205",
   "metadata": {},
   "outputs": [],
   "source": []
  }
 ],
 "metadata": {
  "kernelspec": {
   "display_name": "Python [conda env:fastchexpert]",
   "language": "python",
   "name": "conda-env-fastchexpert-py"
  },
  "language_info": {
   "codemirror_mode": {
    "name": "ipython",
    "version": 3
   },
   "file_extension": ".py",
   "mimetype": "text/x-python",
   "name": "python",
   "nbconvert_exporter": "python",
   "pygments_lexer": "ipython3",
   "version": "3.9.12"
  }
 },
 "nbformat": 4,
 "nbformat_minor": 5
}
