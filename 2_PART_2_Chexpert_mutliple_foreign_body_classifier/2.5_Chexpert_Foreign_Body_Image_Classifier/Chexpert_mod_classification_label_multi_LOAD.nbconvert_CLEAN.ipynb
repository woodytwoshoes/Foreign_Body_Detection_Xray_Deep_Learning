{
 "cells": [
  {
   "cell_type": "code",
   "execution_count": 1,
   "id": "bedba581-d659-4194-9de4-6d05a62ac335",
   "metadata": {},
   "outputs": [],
   "source": [
    "from fastai.vision.all import *\n",
    "\n",
    "from PIL import Image\n",
    "import numpy as np\n",
    "import pandas as pd\n",
    "import os\n",
    "from pathlib import Path\n",
    "\n",
    "np.random.seed(0)"
   ]
  },
  {
   "cell_type": "markdown",
   "id": "3f0e2c42-86d5-4572-b412-57da0dec56dd",
   "metadata": {},
   "source": [
    "# Part II Complete: Classification with all three types of foreign body, full dataset training\n",
    "## Bullets, magnets, coins, and no modification. >99% accuracy. \n",
    "### Metrics included below.\n",
    "\n",
    "TODO: CT volumes and artificial renal calculi in part III."
   ]
  },
  {
   "cell_type": "code",
   "execution_count": 2,
   "id": "cb87c8a9-a746-4ae6-bfdf-802e028bcf76",
   "metadata": {},
   "outputs": [],
   "source": [
    "path = Path('../2.4_Modify_Entire_Dataset/CheXpert-v1.0-small-MOD/')"
   ]
  },
  {
   "cell_type": "code",
   "execution_count": 3,
   "id": "086e1bec-6444-45b1-b8f6-d6a2fdf5bc2d",
   "metadata": {},
   "outputs": [],
   "source": [
    "df_mod = pd.read_csv('df_mod_pathadjusted.csv', index_col = 0)"
   ]
  },
  {
   "cell_type": "code",
   "execution_count": 4,
   "id": "8b66209b-794f-4442-8845-e523fc55ba6a",
   "metadata": {},
   "outputs": [
    {
     "data": {
      "text/html": [
       "<div>\n",
       "<style scoped>\n",
       "    .dataframe tbody tr th:only-of-type {\n",
       "        vertical-align: middle;\n",
       "    }\n",
       "\n",
       "    .dataframe tbody tr th {\n",
       "        vertical-align: top;\n",
       "    }\n",
       "\n",
       "    .dataframe thead th {\n",
       "        text-align: right;\n",
       "    }\n",
       "</style>\n",
       "<table border=\"1\" class=\"dataframe\">\n",
       "  <thead>\n",
       "    <tr style=\"text-align: right;\">\n",
       "      <th></th>\n",
       "      <th>Path</th>\n",
       "      <th>Sex</th>\n",
       "      <th>Age</th>\n",
       "      <th>Frontal/Lateral</th>\n",
       "      <th>AP/PA</th>\n",
       "      <th>No Finding</th>\n",
       "      <th>Enlarged Cardiomediastinum</th>\n",
       "      <th>Cardiomegaly</th>\n",
       "      <th>Lung Opacity</th>\n",
       "      <th>Lung Lesion</th>\n",
       "      <th>...</th>\n",
       "      <th>Atelectasis</th>\n",
       "      <th>Pneumothorax</th>\n",
       "      <th>Pleural Effusion</th>\n",
       "      <th>Pleural Other</th>\n",
       "      <th>Fracture</th>\n",
       "      <th>Support Devices</th>\n",
       "      <th>magnets</th>\n",
       "      <th>no_mod</th>\n",
       "      <th>bullet</th>\n",
       "      <th>coin</th>\n",
       "    </tr>\n",
       "  </thead>\n",
       "  <tbody>\n",
       "    <tr>\n",
       "      <th>0</th>\n",
       "      <td>train/patient00001/study1/view1_frontal_mod_magnets.jpg</td>\n",
       "      <td>Female</td>\n",
       "      <td>68</td>\n",
       "      <td>Frontal</td>\n",
       "      <td>AP</td>\n",
       "      <td>1.0</td>\n",
       "      <td>NaN</td>\n",
       "      <td>NaN</td>\n",
       "      <td>NaN</td>\n",
       "      <td>NaN</td>\n",
       "      <td>...</td>\n",
       "      <td>NaN</td>\n",
       "      <td>0.0</td>\n",
       "      <td>NaN</td>\n",
       "      <td>NaN</td>\n",
       "      <td>NaN</td>\n",
       "      <td>1.0</td>\n",
       "      <td>True</td>\n",
       "      <td>NaN</td>\n",
       "      <td>NaN</td>\n",
       "      <td>NaN</td>\n",
       "    </tr>\n",
       "    <tr>\n",
       "      <th>1</th>\n",
       "      <td>train/patient00002/study2/view1_frontal_mod_no_mod.jpg</td>\n",
       "      <td>Female</td>\n",
       "      <td>87</td>\n",
       "      <td>Frontal</td>\n",
       "      <td>AP</td>\n",
       "      <td>NaN</td>\n",
       "      <td>NaN</td>\n",
       "      <td>-1.0</td>\n",
       "      <td>1.0</td>\n",
       "      <td>NaN</td>\n",
       "      <td>...</td>\n",
       "      <td>-1.0</td>\n",
       "      <td>NaN</td>\n",
       "      <td>-1.0</td>\n",
       "      <td>NaN</td>\n",
       "      <td>1.0</td>\n",
       "      <td>NaN</td>\n",
       "      <td>NaN</td>\n",
       "      <td>True</td>\n",
       "      <td>NaN</td>\n",
       "      <td>NaN</td>\n",
       "    </tr>\n",
       "    <tr>\n",
       "      <th>2</th>\n",
       "      <td>train/patient00002/study1/view1_frontal_mod_no_mod.jpg</td>\n",
       "      <td>Female</td>\n",
       "      <td>83</td>\n",
       "      <td>Frontal</td>\n",
       "      <td>AP</td>\n",
       "      <td>NaN</td>\n",
       "      <td>NaN</td>\n",
       "      <td>NaN</td>\n",
       "      <td>1.0</td>\n",
       "      <td>NaN</td>\n",
       "      <td>...</td>\n",
       "      <td>NaN</td>\n",
       "      <td>NaN</td>\n",
       "      <td>NaN</td>\n",
       "      <td>NaN</td>\n",
       "      <td>1.0</td>\n",
       "      <td>NaN</td>\n",
       "      <td>NaN</td>\n",
       "      <td>True</td>\n",
       "      <td>NaN</td>\n",
       "      <td>NaN</td>\n",
       "    </tr>\n",
       "    <tr>\n",
       "      <th>3</th>\n",
       "      <td>train/patient00002/study1/view2_lateral_mod_no_mod.jpg</td>\n",
       "      <td>Female</td>\n",
       "      <td>83</td>\n",
       "      <td>Lateral</td>\n",
       "      <td>NaN</td>\n",
       "      <td>NaN</td>\n",
       "      <td>NaN</td>\n",
       "      <td>NaN</td>\n",
       "      <td>1.0</td>\n",
       "      <td>NaN</td>\n",
       "      <td>...</td>\n",
       "      <td>NaN</td>\n",
       "      <td>NaN</td>\n",
       "      <td>NaN</td>\n",
       "      <td>NaN</td>\n",
       "      <td>1.0</td>\n",
       "      <td>NaN</td>\n",
       "      <td>NaN</td>\n",
       "      <td>True</td>\n",
       "      <td>NaN</td>\n",
       "      <td>NaN</td>\n",
       "    </tr>\n",
       "    <tr>\n",
       "      <th>4</th>\n",
       "      <td>train/patient00003/study1/view1_frontal_mod_bullet.jpg</td>\n",
       "      <td>Male</td>\n",
       "      <td>41</td>\n",
       "      <td>Frontal</td>\n",
       "      <td>AP</td>\n",
       "      <td>NaN</td>\n",
       "      <td>NaN</td>\n",
       "      <td>NaN</td>\n",
       "      <td>NaN</td>\n",
       "      <td>NaN</td>\n",
       "      <td>...</td>\n",
       "      <td>NaN</td>\n",
       "      <td>0.0</td>\n",
       "      <td>NaN</td>\n",
       "      <td>NaN</td>\n",
       "      <td>NaN</td>\n",
       "      <td>NaN</td>\n",
       "      <td>NaN</td>\n",
       "      <td>NaN</td>\n",
       "      <td>True</td>\n",
       "      <td>NaN</td>\n",
       "    </tr>\n",
       "  </tbody>\n",
       "</table>\n",
       "<p>5 rows × 23 columns</p>\n",
       "</div>"
      ],
      "text/plain": [
       "                                                      Path     Sex  Age  \\\n",
       "0  train/patient00001/study1/view1_frontal_mod_magnets.jpg  Female   68   \n",
       "1   train/patient00002/study2/view1_frontal_mod_no_mod.jpg  Female   87   \n",
       "2   train/patient00002/study1/view1_frontal_mod_no_mod.jpg  Female   83   \n",
       "3   train/patient00002/study1/view2_lateral_mod_no_mod.jpg  Female   83   \n",
       "4   train/patient00003/study1/view1_frontal_mod_bullet.jpg    Male   41   \n",
       "\n",
       "  Frontal/Lateral AP/PA  No Finding  Enlarged Cardiomediastinum  Cardiomegaly  \\\n",
       "0         Frontal    AP         1.0                         NaN           NaN   \n",
       "1         Frontal    AP         NaN                         NaN          -1.0   \n",
       "2         Frontal    AP         NaN                         NaN           NaN   \n",
       "3         Lateral   NaN         NaN                         NaN           NaN   \n",
       "4         Frontal    AP         NaN                         NaN           NaN   \n",
       "\n",
       "   Lung Opacity  Lung Lesion  ...  Atelectasis  Pneumothorax  \\\n",
       "0           NaN          NaN  ...          NaN           0.0   \n",
       "1           1.0          NaN  ...         -1.0           NaN   \n",
       "2           1.0          NaN  ...          NaN           NaN   \n",
       "3           1.0          NaN  ...          NaN           NaN   \n",
       "4           NaN          NaN  ...          NaN           0.0   \n",
       "\n",
       "   Pleural Effusion  Pleural Other  Fracture  Support Devices  magnets  \\\n",
       "0               NaN            NaN       NaN              1.0     True   \n",
       "1              -1.0            NaN       1.0              NaN      NaN   \n",
       "2               NaN            NaN       1.0              NaN      NaN   \n",
       "3               NaN            NaN       1.0              NaN      NaN   \n",
       "4               NaN            NaN       NaN              NaN      NaN   \n",
       "\n",
       "   no_mod  bullet coin  \n",
       "0     NaN     NaN  NaN  \n",
       "1    True     NaN  NaN  \n",
       "2    True     NaN  NaN  \n",
       "3    True     NaN  NaN  \n",
       "4     NaN    True  NaN  \n",
       "\n",
       "[5 rows x 23 columns]"
      ]
     },
     "execution_count": 4,
     "metadata": {},
     "output_type": "execute_result"
    }
   ],
   "source": [
    "df_mod.head()"
   ]
  },
  {
   "cell_type": "code",
   "execution_count": 5,
   "id": "66eb3edc-a23f-46ce-a536-ebc81488104e",
   "metadata": {},
   "outputs": [],
   "source": [
    "label_cols = 'coin magnets bullet no_mod'.split(' ')"
   ]
  },
  {
   "cell_type": "code",
   "execution_count": 6,
   "id": "1fb14fed-9183-4e4c-a2d3-b77d32f85918",
   "metadata": {},
   "outputs": [
    {
     "data": {
      "text/plain": [
       "['coin', 'magnets', 'bullet', 'no_mod']"
      ]
     },
     "execution_count": 6,
     "metadata": {},
     "output_type": "execute_result"
    }
   ],
   "source": [
    "label_cols"
   ]
  },
  {
   "cell_type": "code",
   "execution_count": 7,
   "id": "f10d01b0-ad99-40bb-823c-2dfc70d6c63a",
   "metadata": {},
   "outputs": [],
   "source": [
    "df_mod['label'] = df_mod[label_cols].fillna(0).astype('int').idxmax(axis = 1)"
   ]
  },
  {
   "cell_type": "code",
   "execution_count": 8,
   "id": "aa51d0dc-cbd6-4553-a5bd-679078946898",
   "metadata": {},
   "outputs": [],
   "source": [
    "df = df_mod[['Path','label']]"
   ]
  },
  {
   "cell_type": "code",
   "execution_count": 9,
   "id": "ce2d2314-5017-4504-a63b-3f8e61d6bcda",
   "metadata": {},
   "outputs": [
    {
     "data": {
      "text/html": [
       "<div>\n",
       "<style scoped>\n",
       "    .dataframe tbody tr th:only-of-type {\n",
       "        vertical-align: middle;\n",
       "    }\n",
       "\n",
       "    .dataframe tbody tr th {\n",
       "        vertical-align: top;\n",
       "    }\n",
       "\n",
       "    .dataframe thead th {\n",
       "        text-align: right;\n",
       "    }\n",
       "</style>\n",
       "<table border=\"1\" class=\"dataframe\">\n",
       "  <thead>\n",
       "    <tr style=\"text-align: right;\">\n",
       "      <th></th>\n",
       "      <th>Path</th>\n",
       "      <th>label</th>\n",
       "    </tr>\n",
       "  </thead>\n",
       "  <tbody>\n",
       "    <tr>\n",
       "      <th>0</th>\n",
       "      <td>train/patient00001/study1/view1_frontal_mod_magnets.jpg</td>\n",
       "      <td>magnets</td>\n",
       "    </tr>\n",
       "    <tr>\n",
       "      <th>1</th>\n",
       "      <td>train/patient00002/study2/view1_frontal_mod_no_mod.jpg</td>\n",
       "      <td>no_mod</td>\n",
       "    </tr>\n",
       "    <tr>\n",
       "      <th>2</th>\n",
       "      <td>train/patient00002/study1/view1_frontal_mod_no_mod.jpg</td>\n",
       "      <td>no_mod</td>\n",
       "    </tr>\n",
       "    <tr>\n",
       "      <th>3</th>\n",
       "      <td>train/patient00002/study1/view2_lateral_mod_no_mod.jpg</td>\n",
       "      <td>no_mod</td>\n",
       "    </tr>\n",
       "    <tr>\n",
       "      <th>4</th>\n",
       "      <td>train/patient00003/study1/view1_frontal_mod_bullet.jpg</td>\n",
       "      <td>bullet</td>\n",
       "    </tr>\n",
       "    <tr>\n",
       "      <th>...</th>\n",
       "      <td>...</td>\n",
       "      <td>...</td>\n",
       "    </tr>\n",
       "    <tr>\n",
       "      <th>177995</th>\n",
       "      <td>train/patient41732/study3/view1_frontal_mod_bullet.jpg</td>\n",
       "      <td>bullet</td>\n",
       "    </tr>\n",
       "    <tr>\n",
       "      <th>177996</th>\n",
       "      <td>train/patient41733/study3/view1_frontal_mod_bullet.jpg</td>\n",
       "      <td>bullet</td>\n",
       "    </tr>\n",
       "    <tr>\n",
       "      <th>177997</th>\n",
       "      <td>train/patient41733/study1/view1_frontal_mod_no_mod.jpg</td>\n",
       "      <td>no_mod</td>\n",
       "    </tr>\n",
       "    <tr>\n",
       "      <th>177998</th>\n",
       "      <td>train/patient41733/study2/view1_frontal_mod_bullet.jpg</td>\n",
       "      <td>bullet</td>\n",
       "    </tr>\n",
       "    <tr>\n",
       "      <th>177999</th>\n",
       "      <td>train/patient41734/study2/view1_frontal_mod_coin.jpg</td>\n",
       "      <td>coin</td>\n",
       "    </tr>\n",
       "  </tbody>\n",
       "</table>\n",
       "<p>178000 rows × 2 columns</p>\n",
       "</div>"
      ],
      "text/plain": [
       "                                                           Path    label\n",
       "0       train/patient00001/study1/view1_frontal_mod_magnets.jpg  magnets\n",
       "1        train/patient00002/study2/view1_frontal_mod_no_mod.jpg   no_mod\n",
       "2        train/patient00002/study1/view1_frontal_mod_no_mod.jpg   no_mod\n",
       "3        train/patient00002/study1/view2_lateral_mod_no_mod.jpg   no_mod\n",
       "4        train/patient00003/study1/view1_frontal_mod_bullet.jpg   bullet\n",
       "...                                                         ...      ...\n",
       "177995   train/patient41732/study3/view1_frontal_mod_bullet.jpg   bullet\n",
       "177996   train/patient41733/study3/view1_frontal_mod_bullet.jpg   bullet\n",
       "177997   train/patient41733/study1/view1_frontal_mod_no_mod.jpg   no_mod\n",
       "177998   train/patient41733/study2/view1_frontal_mod_bullet.jpg   bullet\n",
       "177999     train/patient41734/study2/view1_frontal_mod_coin.jpg     coin\n",
       "\n",
       "[178000 rows x 2 columns]"
      ]
     },
     "execution_count": 9,
     "metadata": {},
     "output_type": "execute_result"
    }
   ],
   "source": [
    "df.iloc[:178000]"
   ]
  },
  {
   "cell_type": "code",
   "execution_count": 10,
   "id": "0db3e558-a30f-47f4-aad9-835a8487e016",
   "metadata": {},
   "outputs": [],
   "source": [
    "dls = ImageDataLoaders.from_df(df = df.iloc[:178000], path = path, item_tfms=Resize(224))"
   ]
  },
  {
   "cell_type": "code",
   "execution_count": 11,
   "id": "faa875d3-b18e-4b5a-846a-991fdb7c791d",
   "metadata": {},
   "outputs": [],
   "source": [
    "learn = cnn_learner(dls, resnet18, metrics=accuracy, lr = 0.00524807)"
   ]
  },
  {
   "cell_type": "code",
   "execution_count": 12,
   "id": "e83f8924-3773-4159-b051-f13128692280",
   "metadata": {},
   "outputs": [
    {
     "data": {
      "text/plain": [
       "<fastai.learner.Learner at 0x7f8964d47e20>"
      ]
     },
     "execution_count": 12,
     "metadata": {},
     "output_type": "execute_result"
    }
   ],
   "source": [
    "learn.load('20220426_model_binary_mod_nomod')"
   ]
  },
  {
   "cell_type": "code",
   "execution_count": 13,
   "id": "d96352a0-9552-4404-9634-e0a1ed86ce49",
   "metadata": {},
   "outputs": [
    {
     "data": {
      "text/html": [
       "\n",
       "<style>\n",
       "    /* Turns off some styling */\n",
       "    progress {\n",
       "        /* gets rid of default border in Firefox and Opera. */\n",
       "        border: none;\n",
       "        /* Needs to be in here for Safari polyfill so background images work as expected. */\n",
       "        background-size: auto;\n",
       "    }\n",
       "    .progress-bar-interrupted, .progress-bar-interrupted::-webkit-progress-bar {\n",
       "        background: #F44336;\n",
       "    }\n",
       "</style>\n"
      ],
      "text/plain": [
       "<IPython.core.display.HTML object>"
      ]
     },
     "metadata": {},
     "output_type": "display_data"
    },
    {
     "data": {
      "text/html": [],
      "text/plain": [
       "<IPython.core.display.HTML object>"
      ]
     },
     "metadata": {},
     "output_type": "display_data"
    }
   ],
   "source": [
    "interp = ClassificationInterpretation.from_learner(learn)"
   ]
  },
  {
   "cell_type": "code",
   "execution_count": 14,
   "id": "e9f49845-4cf2-4fc6-9e84-88910538d5a4",
   "metadata": {},
   "outputs": [
    {
     "data": {
      "text/html": [
       "\n",
       "<style>\n",
       "    /* Turns off some styling */\n",
       "    progress {\n",
       "        /* gets rid of default border in Firefox and Opera. */\n",
       "        border: none;\n",
       "        /* Needs to be in here for Safari polyfill so background images work as expected. */\n",
       "        background-size: auto;\n",
       "    }\n",
       "    .progress-bar-interrupted, .progress-bar-interrupted::-webkit-progress-bar {\n",
       "        background: #F44336;\n",
       "    }\n",
       "</style>\n"
      ],
      "text/plain": [
       "<IPython.core.display.HTML object>"
      ]
     },
     "metadata": {},
     "output_type": "display_data"
    },
    {
     "data": {
      "text/html": [],
      "text/plain": [
       "<IPython.core.display.HTML object>"
      ]
     },
     "metadata": {},
     "output_type": "display_data"
    },
    {
     "data": {
      "image/png": "[encoded data removed]",
      "text/plain": [
       "<Figure size 504x504 with 1 Axes>"
      ]
     },
     "metadata": {
      "needs_background": "light"
     },
     "output_type": "display_data"
    }
   ],
   "source": [
    "losses,idxs = interp.top_losses()\n",
    "len(dls.valid_ds)==len(losses)==len(idxs)\n",
    "interp.plot_confusion_matrix(figsize=(7,7))"
   ]
  },
  {
   "cell_type": "code",
   "execution_count": 15,
   "id": "dabb2ac9-ff26-452f-a27d-90f03aeaab2e",
   "metadata": {},
   "outputs": [
    {
     "data": {
      "text/html": [
       "\n",
       "<style>\n",
       "    /* Turns off some styling */\n",
       "    progress {\n",
       "        /* gets rid of default border in Firefox and Opera. */\n",
       "        border: none;\n",
       "        /* Needs to be in here for Safari polyfill so background images work as expected. */\n",
       "        background-size: auto;\n",
       "    }\n",
       "    .progress-bar-interrupted, .progress-bar-interrupted::-webkit-progress-bar {\n",
       "        background: #F44336;\n",
       "    }\n",
       "</style>\n"
      ],
      "text/plain": [
       "<IPython.core.display.HTML object>"
      ]
     },
     "metadata": {},
     "output_type": "display_data"
    },
    {
     "data": {
      "text/html": [],
      "text/plain": [
       "<IPython.core.display.HTML object>"
      ]
     },
     "metadata": {},
     "output_type": "display_data"
    }
   ],
   "source": [
    "mat = interp.confusion_matrix()"
   ]
  },
  {
   "cell_type": "code",
   "execution_count": 2,
   "id": "97e221b9-0181-4130-9e2f-0c960a9fde70",
   "metadata": {},
   "outputs": [],
   "source": [
    "mat = np.array([[4902,1,0,20],[0,5000,0,7],[0,0,4828,45],[33,4,27,20733]])"
   ]
  },
  {
   "cell_type": "code",
   "execution_count": 3,
   "id": "40a72d78-d15f-4856-b6b7-39a8390817f5",
   "metadata": {},
   "outputs": [],
   "source": [
    "sens = np.diag(mat)/mat.sum(axis = 1)"
   ]
  },
  {
   "cell_type": "code",
   "execution_count": 4,
   "id": "90f9bfd9-ff6a-473b-b1f4-7bc43edce1a7",
   "metadata": {},
   "outputs": [],
   "source": [
    "categories = 'bullet coin magnets no_mod'.split(' ')"
   ]
  },
  {
   "cell_type": "code",
   "execution_count": 5,
   "id": "75127f45-8e08-4288-a19d-d02709581e71",
   "metadata": {},
   "outputs": [
    {
     "name": "stdout",
     "output_type": "stream",
     "text": [
      "sensitivity/recall for class bullet is 0.996\n",
      "sensitivity/recall for class coin is 0.999\n",
      "sensitivity/recall for class magnets is 0.991\n",
      "sensitivity/recall for class no_mod is 0.997\n"
     ]
    }
   ],
   "source": [
    "for category, sensitivity in zip(categories, sens):\n",
    "    print(f'sensitivity/recall for class {category} is {sensitivity:.3f}')"
   ]
  },
  {
   "cell_type": "code",
   "execution_count": 6,
   "id": "3bd55f91-ff77-4a1f-91b1-991d300367f1",
   "metadata": {},
   "outputs": [],
   "source": [
    "precisions = np.diag(mat)/mat.sum(axis = 0)"
   ]
  },
  {
   "cell_type": "code",
   "execution_count": 7,
   "id": "7b29102e-9902-40d4-92a8-fdef96986b6d",
   "metadata": {},
   "outputs": [
    {
     "name": "stdout",
     "output_type": "stream",
     "text": [
      "precision for class bullet is 0.993\n",
      "precision for class coin is 0.999\n",
      "precision for class magnets is 0.994\n",
      "precision for class no_mod is 0.997\n"
     ]
    }
   ],
   "source": [
    "for category, precision in zip(categories, precisions):\n",
    "    print(f'precision for class {category} is {precision:.3f}')"
   ]
  },
  {
   "cell_type": "code",
   "execution_count": 8,
   "id": "7e6876a7-c60d-4665-8cf8-247f4af45b2a",
   "metadata": {},
   "outputs": [],
   "source": [
    "cm  = mat"
   ]
  },
  {
   "cell_type": "code",
   "execution_count": 9,
   "id": "ea193fec-b676-4e5f-a27b-c86ac4a7e5aa",
   "metadata": {},
   "outputs": [
    {
     "data": {
      "text/plain": [
       "array([ 4902,  5000,  4828, 20733])"
      ]
     },
     "execution_count": 9,
     "metadata": {},
     "output_type": "execute_result"
    }
   ],
   "source": [
    "TP = np.diag(cm)\n",
    "TP"
   ]
  },
  {
   "cell_type": "code",
   "execution_count": 10,
   "id": "b433ecf9-9f62-4fea-aa75-222c6dfbd918",
   "metadata": {},
   "outputs": [
    {
     "data": {
      "text/plain": [
       "array([33,  5, 27, 72])"
      ]
     },
     "execution_count": 10,
     "metadata": {},
     "output_type": "execute_result"
    }
   ],
   "source": [
    "FP = np.sum(cm, axis=0) - TP\n",
    "FP"
   ]
  },
  {
   "cell_type": "code",
   "execution_count": 11,
   "id": "e84b6aba-6e3d-4ffa-ac0c-d16f1fdd5957",
   "metadata": {},
   "outputs": [
    {
     "data": {
      "text/plain": [
       "array([21,  7, 45, 64])"
      ]
     },
     "execution_count": 11,
     "metadata": {},
     "output_type": "execute_result"
    }
   ],
   "source": [
    "FN = np.sum(cm, axis=1) - TP\n",
    "FN"
   ]
  },
  {
   "cell_type": "code",
   "execution_count": 12,
   "id": "5bad5cb4-503a-4778-99c4-002f8bad155e",
   "metadata": {},
   "outputs": [
    {
     "data": {
      "text/plain": [
       "[30644, 30588, 30700, 14731]"
      ]
     },
     "execution_count": 12,
     "metadata": {},
     "output_type": "execute_result"
    }
   ],
   "source": [
    "num_classes = 4\n",
    "TN = []\n",
    "for i in range(num_classes):\n",
    "    temp = np.delete(cm, i, 0)    # delete ith row\n",
    "    temp = np.delete(temp, i, 1)  # delete ith column\n",
    "    TN.append(sum(sum(temp)))\n",
    "TN"
   ]
  },
  {
   "cell_type": "code",
   "execution_count": 13,
   "id": "35d092c8-6ddc-40b2-a69b-45ea9e5b437f",
   "metadata": {},
   "outputs": [],
   "source": [
    "specificities = TN/(TN+FP)"
   ]
  },
  {
   "cell_type": "code",
   "execution_count": 14,
   "id": "15734615-5e96-4893-81e7-275c04d1669c",
   "metadata": {},
   "outputs": [
    {
     "name": "stdout",
     "output_type": "stream",
     "text": [
      "specificity for class bullet is 0.999\n",
      "specificity for class coin is 1.000\n",
      "specificity for class magnets is 0.999\n",
      "specificity for class no_mod is 0.995\n"
     ]
    }
   ],
   "source": [
    "for category, specificity in zip(categories, specificities):\n",
    "    print(f'specificity for class {category} is {specificity:.3f}')"
   ]
  }
 ],
 "metadata": {
  "kernelspec": {
   "display_name": "Python [conda env:fastchexpert]",
   "language": "python",
   "name": "conda-env-fastchexpert-py"
  },
  "language_info": {
   "codemirror_mode": {
    "name": "ipython",
    "version": 3
   },
   "file_extension": ".py",
   "mimetype": "text/x-python",
   "name": "python",
   "nbconvert_exporter": "python",
   "pygments_lexer": "ipython3",
   "version": "3.9.12"
  }
 },
 "nbformat": 4,
 "nbformat_minor": 5
}
